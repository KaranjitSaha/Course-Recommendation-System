{
 "cells": [
  {
   "cell_type": "code",
   "execution_count": 208,
   "metadata": {},
   "outputs": [],
   "source": [
    "import pandas as pd\n",
    "import numpy as np\n",
    "import math\n",
    "from decimal import Decimal"
   ]
  },
  {
   "cell_type": "code",
   "execution_count": 209,
   "metadata": {},
   "outputs": [],
   "source": [
    "def vector_norm(x):\n",
    "    \"\"\"Compute the L2 norm of a vector.\"\"\"\n",
    "    return Decimal(np.dot(x, x)).sqrt()\n",
    "\n",
    "def qr_decomposition(A):\n",
    "    \"\"\"\n",
    "    Compute the QR decomposition of a matrix A using the Gram-Schmidt algorithm.\n",
    "\n",
    "    Parameters:\n",
    "    A (numpy.ndarray): The matrix to decompose.\n",
    "\n",
    "    Returns:\n",
    "    (numpy.ndarray, numpy.ndarray): A tuple of Q and R matrices that represent the QR decomposition of A, where:\n",
    "        Q (numpy.ndarray): The orthogonal matrix Q.\n",
    "        R (numpy.ndarray): The upper triangular matrix R.\n",
    "    \"\"\"\n",
    "    # Get the shape of the input matrix\n",
    "    m, n = A.shape\n",
    "\n",
    "    # Initialize the matrices\n",
    "    Q = np.zeros((m, n))\n",
    "    R = np.zeros((n, n))\n",
    "\n",
    "    # Perform the Gram-Schmidt orthogonalization\n",
    "    for j in range(n):\n",
    "        v = A[:, j]\n",
    "        for i in range(j):\n",
    "            R[i, j] = np.dot(Q[:, i], A[:, j])\n",
    "            v = v - R[i, j] * Q[:, i]\n",
    "        # R[j, j] = np.linalg.norm(v)\n",
    "        R[j, j] = vector_norm(v)\n",
    "        Q[:, j] = v / R[j, j]\n",
    "\n",
    "    return Q, R"
   ]
  },
  {
   "cell_type": "code",
   "execution_count": 210,
   "metadata": {},
   "outputs": [],
   "source": [
    "def rank_of_matrix(mat):\n",
    "    \"\"\"\n",
    "    This function calculates the rank of a matrix 'mat' using Gaussian elimination method.\n",
    "    It returns the rank of the matrix.\n",
    "    \"\"\"\n",
    "    # Define the dimensions of the matrix\n",
    "    m = len(mat)\n",
    "    n = len(mat[0])\n",
    "\n",
    "    rank = min(m, n)\n",
    "\n",
    "    # Perform Gaussian elimination\n",
    "    for row in range(rank):\n",
    "        # Check if the diagonal element is not zero\n",
    "        if mat[row][row] != 0:\n",
    "            for col in range(row + 1, m):\n",
    "                # Calculate the factor by which to multiply the current row\n",
    "                # to eliminate the non-zero element in the current column\n",
    "                factor = mat[col][row] / mat[row][row]\n",
    "                for i in range(row, n):\n",
    "                    # Update the current row by subtracting the product of the factor\n",
    "                    # and the corresponding element in the row being eliminated from it\n",
    "                    mat[col][i] -= factor * mat[row][i]\n",
    "        else:\n",
    "            # If the diagonal element is zero, look for a non-zero element below it\n",
    "            # and swap the rows if necessary\n",
    "            reduce_rank = True\n",
    "            for i in range(row + 1, m):\n",
    "                if mat[i][row] != 0:\n",
    "                    mat[row], mat[i] = mat[i], mat[row]\n",
    "                    reduce_rank = False\n",
    "                    break\n",
    "            if reduce_rank:\n",
    "                rank -= 1\n",
    "                for i in range(row, m):\n",
    "                    mat[i][row] = mat[i][rank]\n",
    "\n",
    "    return rank\n"
   ]
  },
  {
   "cell_type": "code",
   "execution_count": 211,
   "metadata": {},
   "outputs": [],
   "source": [
    "def eig(A):\n",
    "    \"\"\"\n",
    "    Compute the eigenvalues and eigenvectors of a matrix A using the power iteration method.\n",
    "\n",
    "    Parameters:\n",
    "    A (numpy.ndarray): The matrix to compute eigenvalues and eigenvectors.\n",
    "\n",
    "    Returns:\n",
    "    (eigvals, eigvecs): A tuple of arrays that represent the eigenvalues and eigenvectors of A, where:\n",
    "        eigvals (numpy.ndarray): The eigenvalues of A.\n",
    "        eigvecs (numpy.ndarray): The eigenvectors of A.\n",
    "    \"\"\"\n",
    "    # set the number of iterations and tolerance level\n",
    "    max_iter = 100\n",
    "    tol = 1e-6\n",
    "\n",
    "    # initialize the eigenvectors\n",
    "    m, n = A.shape\n",
    "    eigvecs = np.random.randn(n, n)\n",
    "\n",
    "    # compute the largest eigenvalue and eigenvector\n",
    "    for i in range(max_iter):\n",
    "        # compute the new eigenvector\n",
    "        eigvecs_new = A @ eigvecs\n",
    "        # eigvecs_new, _ = np.linalg.qr(eigvecs_new)\n",
    "        eigvecs_new, _ = qr_decomposition(eigvecs_new)\n",
    "        if np.allclose(eigvecs_new, eigvecs, rtol=tol):\n",
    "            break\n",
    "        eigvecs = eigvecs_new\n",
    "\n",
    "    # compute the eigenvalues\n",
    "    eigvals = np.diag(eigvecs.T @ A @ eigvecs)\n",
    "\n",
    "    return eigvals, eigvecs\n"
   ]
  },
  {
   "cell_type": "code",
   "execution_count": 212,
   "metadata": {},
   "outputs": [],
   "source": [
    "# def SVD(A):\n",
    "#     # Compute the eigenvectors and eigenvalues of A*At or At*A, whichever is smaller\n",
    "#     if A.shape[0] < A.shape[1]:\n",
    "#         k=np.linalg.matrix_rank(A@A.T)\n",
    "#         S = np.dot(A, A.T)\n",
    "#     else:\n",
    "#         k=np.linalg.matrix_rank(A.T@A)\n",
    "#         S = np.dot(A.T, A)\n",
    "        \n",
    "#     # eigvals, eigvecs = np.linalg.eig(S) #NOT ALLOWED\n",
    "#     sigma, eigenvectors = eig(S)\n",
    "#     eigenvectors =eigenvectors[:k]\n",
    "#     # Compute the singular values and their reciprocals\n",
    "#     sigma=np.diag(np.sqrt(sigma[:k]))\n",
    "\n",
    "#     # Compute the left and right singular vectors\n",
    "#     if(A.shape[0] < A.shape[1]):\n",
    "#         V = A@eigenvectors@np.linalg.inv(sigma)@eigenvectors.T\n",
    "#         U = eigenvectors\n",
    "#     else:\n",
    "#         U = A@eigenvectors@np.linalg.inv(sigma)\n",
    "#         V=eigenvectors\n",
    "\n",
    "#     return U,sigma, V.T"
   ]
  },
  {
   "cell_type": "code",
   "execution_count": 213,
   "metadata": {},
   "outputs": [],
   "source": [
    "def SVD(A):\n",
    "    \"\"\"\n",
    "    Compute Singular Value Decomposition of matrix A using NumPy.\n",
    "\n",
    "    Args:\n",
    "        A: numpy.array, matrix to be decomposed\n",
    "\n",
    "    Returns:\n",
    "        U: numpy.array, matrix containing left singular vectors\n",
    "        s: numpy.array, array containing singular values\n",
    "        V_T: numpy.array, matrix containing right singular vectors (transposed)\n",
    "    \"\"\"\n",
    "    # Compute the eigenvectors and eigenvalues of A*At or At*A, whichever is smaller\n",
    "    if A.shape[0] < A.shape[1]:\n",
    "        # S = np.dot(A, A.T)\n",
    "        S = A @ A.T\n",
    "        # print(A @ A.T)\n",
    "        # k = np.linalg.matrix_rank(S)\n",
    "        k = rank_of_matrix(S.copy())\n",
    "    else:\n",
    "        # S = np.dot(A.T, A)\n",
    "        S = A.T @ A\n",
    "        # k = np.linalg.matrix_rank(S)\n",
    "        k = rank_of_matrix(S.copy())\n",
    "        \n",
    "    # eigvals, eigvecs = np.linalg.eig(S) #NOT ALLOWED\n",
    "    print(S)\n",
    "    eigvals, eigvecs = eig(S)\n",
    "    print(eigvals)\n",
    "    # Sort the eigenvectors by descending eigenvalues\n",
    "    sorted_indices = np.argsort(eigvals)[::-1]\n",
    "    eigvals = eigvals[sorted_indices]\n",
    "    eigvecs = eigvecs[:,sorted_indices]\n",
    "\n",
    "    # Compute the singular values and their reciprocals\n",
    "    s = np.sqrt(eigvals)\n",
    "    # s = s[s > 10e-6]\n",
    "    s = s[:k]\n",
    "    s_inv = np.zeros_like(A.T)\n",
    "    np.fill_diagonal(s_inv, 1.0 / s)\n",
    "\n",
    "    # Compute the left and right singular vectors\n",
    "    # if(A.shape[0] > A.shape[1]):\n",
    "    if(A.shape[0] > A.shape[1]):\n",
    "        U = np.dot(A, np.dot(eigvecs, s_inv))\n",
    "        V_T = eigvecs.T\n",
    "        if(len(s) != V_T.shape[0]): V_T = V_T[:len(s) - V_T.shape[0], :] \n",
    "\n",
    "    else:\n",
    "        U = eigvecs\n",
    "        V_T = np.dot(s_inv, np.dot(U.T, A))\n",
    "        if(len(s) != U.shape[1]): U = U[:, :len(s) - U.shape[1]]\n",
    "\n",
    "\n",
    "    \n",
    "    # else: \n",
    "    #     V_T = np.dot(s_inv, np.dot(eigvecs, A))\n",
    "    #     U = eigvecs.T\n",
    "    #     if(len(s) != V_T.shape[0]): V_T = V_T[:len(s) - V_T.shape[0], :]\n",
    "\n",
    "    sigma = np.zeros([U.shape[1], V_T.shape[0]])\n",
    "    # sigma = np.zeros([len(s), len(s)])\n",
    "    # sigma = np.diag(s)\n",
    "    # if(A.shape[0] < A.shape[1]):\n",
    "    for i in range(len(s)):\n",
    "        sigma[i, i] = s[i]\n",
    "    # else:\n",
    "    #     for i in range(len(s)):\n",
    "    #         sigma[i, i] = s[i]\n",
    "\n",
    "    return U, s, sigma, V_T"
   ]
  },
  {
   "cell_type": "code",
   "execution_count": 214,
   "metadata": {},
   "outputs": [],
   "source": [
    "# tryy = np.array([[0.89411765, 0.84117647, 0.77058824, 0.54411765, 0.91176471,\n",
    "#         0.784375  , 0.7625    , 0.61785714, 0.69444444, 0.76666667,\n",
    "#         0.6875    , 0.58181818, 0.62222222, 0.44      , 0.6       ,\n",
    "#         0.48333333, 0.45      , 0.41666667, 0.48333333, 0.5       ,\n",
    "#         0.28571429, 0.47166667, 0.52166667, 0.45      , 0.72142857],\n",
    "#        [0.75543947, 0.63583333, 0.56670589, 0.52787547, 0.82429796,\n",
    "#         0.86477368, 0.69059243, 0.64201142, 0.6202247 , 0.63628521,\n",
    "#         0.65243902, 0.45059658, 0.59061035, 0.54418605, 0.61658815,\n",
    "#         0.23793103, 0.24285714, 0.15517241, 0.21785714, 0.12962963,\n",
    "#         0.33333333, 0.50517084, 0.43846154, 0.34615385, 0.57777778],\n",
    "#        [0.81939394, 0.67545455, 0.65515152, 0.65939394, 0.83606061,\n",
    "#         0.803     , 0.809     , 0.61724138, 0.5875    , 0.675     ,\n",
    "#         0.66666667, 0.42884615, 0.66086957, 0.6       , 0.55      ,\n",
    "#         0.19047619, 0.2       , 0.225     , 0.195     , 0.15789474,\n",
    "#         0.31666667, 0.4568    , 0.455     , 0.5       , 0.45714286],\n",
    "#        [0.77526316, 0.69210526, 0.61526316, 0.72684211, 0.9       ,\n",
    "#         0.67692308, 0.58571429, 0.54545455, 0.53333333, 0.52222222,\n",
    "#         0.75555556, 0.30111111, 0.47777778, 0.56666667, 0.75555556,\n",
    "#         0.14571429, 0.11714286, 0.04857143, 0.12142857, 0.03333333,\n",
    "#         0.33333333, 0.38      , 0.35      , 0.45      , 0.52857143]])"
   ]
  },
  {
   "cell_type": "code",
   "execution_count": 215,
   "metadata": {},
   "outputs": [],
   "source": [
    "tryy = np.array([[0.76840567, 0.67184615, 0.61557467, 0.55142351, 0.86119812,\n",
    "        0.74003927, 0.67927052, 0.56742435, 0.56428521, 0.60080851,\n",
    "        0.59384615, 0.47652097, 0.59850127, 0.58923077, 0.58251578,\n",
    "        0.43261538, 0.40184615, 0.35753846, 0.40538462, 0.36      ,\n",
    "        0.41615385, 0.49341019, 0.45846154, 0.46153846, 0.52692308],\n",
    "       [0.86451613, 0.79419355, 0.72419355, 0.66451613, 0.87806452,\n",
    "        0.81129032, 0.73709677, 0.65032258, 0.59322581, 0.6383871 ,\n",
    "        0.53387097, 0.50806452, 0.56612903, 0.48064516, 0.49677419,\n",
    "        0.39354839, 0.41935484, 0.41612903, 0.42580645, 0.43225806,\n",
    "        0.45      , 0.41483871, 0.46548387, 0.44677419, 0.52258065],\n",
    "       [0.81538462, 0.71153846, 0.48461538, 0.65384615, 0.87692308,\n",
    "        0.75      , 0.70769231, 0.46923077, 0.58461538, 0.52307692,\n",
    "        0.5       , 0.42384615, 0.40769231, 0.36153846, 0.44615385,\n",
    "        0.42307692, 0.46153846, 0.46153846, 0.43846154, 0.34615385,\n",
    "        0.46153846, 0.46923077, 0.43846154, 0.5       , 0.46923077],\n",
    "       [0.775     , 0.56388889, 0.46111111, 0.61111111, 0.82777778,\n",
    "        0.82777778, 0.675     , 0.65      , 0.44166667, 0.46111111,\n",
    "        0.71111111, 0.53055556, 0.56111111, 0.52777778, 0.55555556,\n",
    "        0.31666667, 0.33333333, 0.32777778, 0.30555556, 0.32777778,\n",
    "        0.41111111, 0.59166667, 0.55555556, 0.52777778, 0.65      ],\n",
    "       [0.85      , 0.66111111, 0.71944444, 0.53611111, 0.84722222,\n",
    "        0.78333333, 0.68333333, 0.61944444, 0.49444444, 0.48888889,\n",
    "        0.73333333, 0.4       , 0.51111111, 0.58333333, 0.60555556,\n",
    "        0.27777778, 0.27777778, 0.32222222, 0.26666667, 0.27777778,\n",
    "        0.39722222, 0.41666667, 0.50555556, 0.45555556, 0.38333333]])"
   ]
  },
  {
   "cell_type": "code",
   "execution_count": 216,
   "metadata": {},
   "outputs": [
    {
     "name": "stdout",
     "output_type": "stream",
     "text": [
      "[6.2692342  0.47502054 0.36730407 0.23289804 0.1730365 ]\n"
     ]
    }
   ],
   "source": [
    "U, s, V_trans = np.linalg.svd(tryy)\n",
    "print(s)\n"
   ]
  },
  {
   "cell_type": "code",
   "execution_count": 217,
   "metadata": {},
   "outputs": [
    {
     "name": "stdout",
     "output_type": "stream",
     "text": [
      "[[7.98925634 8.32793366 7.61913971 7.85361259 7.73200037]\n",
      " [8.32793366 8.77652353 8.01341688 8.16654034 8.07810572]\n",
      " [7.61913971 8.01341688 7.43973432 7.49926497 7.35349144]\n",
      " [7.85361259 8.16654034 7.49926497 7.89853398 7.65212963]\n",
      " [7.73200037 8.07810572 7.35349144 7.65212963 7.64398917]]\n",
      "[3.93032974e+01 2.25644514e-01 1.34912278e-01 5.42414992e-02\n",
      " 2.99416312e-02]\n"
     ]
    },
    {
     "data": {
      "text/plain": [
       "array([6.2692342 , 0.47502054, 0.36730407, 0.23289804, 0.1730365 ])"
      ]
     },
     "execution_count": 217,
     "metadata": {},
     "output_type": "execute_result"
    }
   ],
   "source": [
    "U1, s1, sigma, V_trans1 = SVD(tryy)\n",
    "s1"
   ]
  },
  {
   "cell_type": "code",
   "execution_count": 218,
   "metadata": {},
   "outputs": [
    {
     "data": {
      "text/plain": [
       "array([[7.98925634, 8.32793366, 7.61913971, 7.85361259, 7.73200037],\n",
       "       [8.32793366, 8.77652353, 8.01341688, 8.16654034, 8.07810572],\n",
       "       [7.61913971, 8.01341688, 7.43973432, 7.49926497, 7.35349144],\n",
       "       [7.85361259, 8.16654034, 7.49926497, 7.89853398, 7.65212963],\n",
       "       [7.73200037, 8.07810572, 7.35349144, 7.65212963, 7.64398917]])"
      ]
     },
     "execution_count": 218,
     "metadata": {},
     "output_type": "execute_result"
    }
   ],
   "source": [
    "tryy @ tryy.T"
   ]
  },
  {
   "cell_type": "code",
   "execution_count": 219,
   "metadata": {},
   "outputs": [
    {
     "data": {
      "text/plain": [
       "array([3.93032974e+01, 2.99416312e-02, 5.42414992e-02, 1.34912278e-01,\n",
       "       2.25644514e-01])"
      ]
     },
     "execution_count": 219,
     "metadata": {},
     "output_type": "execute_result"
    }
   ],
   "source": [
    "v1, e1 = np.linalg.eig(tryy @ tryy.T)\n",
    "v1"
   ]
  },
  {
   "cell_type": "code",
   "execution_count": 220,
   "metadata": {},
   "outputs": [
    {
     "data": {
      "text/plain": [
       "array([3.93032974e+01, 2.25644514e-01, 1.34912278e-01, 5.42414992e-02,\n",
       "       2.99416312e-02])"
      ]
     },
     "execution_count": 220,
     "metadata": {},
     "output_type": "execute_result"
    }
   ],
   "source": [
    "v2, e2 = eig(tryy @ tryy.T)\n",
    "v2"
   ]
  },
  {
   "cell_type": "code",
   "execution_count": 221,
   "metadata": {},
   "outputs": [
    {
     "data": {
      "text/plain": [
       "array([6.2692342 , 0.47502054, 0.36730407, 0.23289804, 0.1730365 ])"
      ]
     },
     "execution_count": 221,
     "metadata": {},
     "output_type": "execute_result"
    }
   ],
   "source": [
    "v2 = np.sqrt(v2)\n",
    "v2"
   ]
  },
  {
   "cell_type": "code",
   "execution_count": 222,
   "metadata": {},
   "outputs": [],
   "source": [
    "k = rank_of_matrix(tryy @ tryy.T)\n"
   ]
  },
  {
   "cell_type": "code",
   "execution_count": 223,
   "metadata": {},
   "outputs": [
    {
     "data": {
      "text/plain": [
       "array([6.2692342 , 0.47502054, 0.36730407, 0.23289804, 0.1730365 ])"
      ]
     },
     "execution_count": 223,
     "metadata": {},
     "output_type": "execute_result"
    }
   ],
   "source": [
    "v2[:k]"
   ]
  },
  {
   "cell_type": "code",
   "execution_count": null,
   "metadata": {},
   "outputs": [],
   "source": []
  }
 ],
 "metadata": {
  "kernelspec": {
   "display_name": "Python 3",
   "language": "python",
   "name": "python3"
  },
  "language_info": {
   "codemirror_mode": {
    "name": "ipython",
    "version": 3
   },
   "file_extension": ".py",
   "mimetype": "text/x-python",
   "name": "python",
   "nbconvert_exporter": "python",
   "pygments_lexer": "ipython3",
   "version": "3.8.10"
  },
  "orig_nbformat": 4
 },
 "nbformat": 4,
 "nbformat_minor": 2
}
